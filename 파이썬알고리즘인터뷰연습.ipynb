{
  "nbformat": 4,
  "nbformat_minor": 0,
  "metadata": {
    "colab": {
      "provenance": [],
      "authorship_tag": "ABX9TyNRwVT6QYTJKcV3WLOoY8QB",
      "include_colab_link": true
    },
    "kernelspec": {
      "name": "python3",
      "display_name": "Python 3"
    },
    "language_info": {
      "name": "python"
    }
  },
  "cells": [
    {
      "cell_type": "markdown",
      "metadata": {
        "id": "view-in-github",
        "colab_type": "text"
      },
      "source": [
        "<a href=\"https://colab.research.google.com/github/junho-baek/colab/blob/main/%ED%8C%8C%EC%9D%B4%EC%8D%AC%EC%95%8C%EA%B3%A0%EB%A6%AC%EC%A6%98%EC%9D%B8%ED%84%B0%EB%B7%B0%EC%97%B0%EC%8A%B5.ipynb\" target=\"_parent\"><img src=\"https://colab.research.google.com/assets/colab-badge.svg\" alt=\"Open In Colab\"/></a>"
      ]
    },
    {
      "cell_type": "markdown",
      "source": [
        "# Python Algoritheme Interview"
      ],
      "metadata": {
        "id": "cHsHFwys0v57"
      }
    },
    {
      "cell_type": "code",
      "source": [
        "print(\"hello world!\")"
      ],
      "metadata": {
        "id": "0x5OVOEt0-Xg",
        "outputId": "2496ecc1-9219-49e3-e410-d830ea9c5284",
        "colab": {
          "base_uri": "https://localhost:8080/"
        }
      },
      "execution_count": null,
      "outputs": [
        {
          "output_type": "stream",
          "name": "stdout",
          "text": [
            "hello world!\n"
          ]
        }
      ]
    },
    {
      "cell_type": "code",
      "source": [
        "a = 'hi'"
      ],
      "metadata": {
        "id": "h5bx378IInjT"
      },
      "execution_count": null,
      "outputs": []
    },
    {
      "cell_type": "code",
      "source": [
        "b = [1,2,3,4]"
      ],
      "metadata": {
        "id": "AB_zpS35PhdN"
      },
      "execution_count": null,
      "outputs": []
    },
    {
      "cell_type": "code",
      "source": [
        "a = b\n"
      ],
      "metadata": {
        "id": "_X2wX9adPjq8"
      },
      "execution_count": null,
      "outputs": []
    },
    {
      "cell_type": "code",
      "source": [
        "b[1] = 50"
      ],
      "metadata": {
        "id": "UPj1RGtRPlic"
      },
      "execution_count": null,
      "outputs": []
    },
    {
      "cell_type": "code",
      "source": [
        "a"
      ],
      "metadata": {
        "colab": {
          "base_uri": "https://localhost:8080/"
        },
        "id": "hHPVz_GnPnkc",
        "outputId": "31e8a643-029d-46fe-bb1f-810bfb6e86cc"
      },
      "execution_count": null,
      "outputs": [
        {
          "output_type": "execute_result",
          "data": {
            "text/plain": [
              "[1, 50, 3, 4]"
            ]
          },
          "metadata": {},
          "execution_count": 5
        }
      ]
    },
    {
      "cell_type": "code",
      "source": [
        "print(locals())"
      ],
      "metadata": {
        "colab": {
          "base_uri": "https://localhost:8080/"
        },
        "id": "47iqnjp6PoX0",
        "outputId": "589fe51f-c2c9-4d70-e1df-129f3e413970"
      },
      "execution_count": null,
      "outputs": [
        {
          "output_type": "stream",
          "name": "stdout",
          "text": [
            "{'__name__': '__main__', '__doc__': 'Automatically created module for IPython interactive environment', '__package__': None, '__loader__': None, '__spec__': None, '__builtin__': <module 'builtins' (built-in)>, '__builtins__': <module 'builtins' (built-in)>, '_ih': ['', \"a = 'hi'\", 'b = [1,2,3,4]', 'a = b', 'b[1] = 50', 'a', 'print(locals())'], '_oh': {5: [1, 50, 3, 4]}, '_dh': ['/content'], 'In': ['', \"a = 'hi'\", 'b = [1,2,3,4]', 'a = b', 'b[1] = 50', 'a', 'print(locals())'], 'Out': {5: [1, 50, 3, 4]}, 'get_ipython': <bound method InteractiveShell.get_ipython of <google.colab._shell.Shell object at 0x7f810560e050>>, 'exit': <IPython.core.autocall.ZMQExitAutocall object at 0x7f8101fa5710>, 'quit': <IPython.core.autocall.ZMQExitAutocall object at 0x7f8101fa5710>, '_': [1, 50, 3, 4], '__': '', '___': '', '_i': 'a', '_ii': 'b[1] = 50', '_iii': 'a = b', '_i1': \"a = 'hi'\", 'a': [1, 50, 3, 4], '_i2': 'b = [1,2,3,4]', 'b': [1, 50, 3, 4], '_i3': 'a = b', '_i4': 'b[1] = 50', '_i5': 'a', '_5': [1, 50, 3, 4], '_i6': 'print(locals())'}\n"
          ]
        }
      ]
    },
    {
      "cell_type": "code",
      "source": [
        "import pprint"
      ],
      "metadata": {
        "id": "3Q2WYeVPPx0U"
      },
      "execution_count": null,
      "outputs": []
    },
    {
      "cell_type": "code",
      "source": [
        "pprint.pprint(locals())"
      ],
      "metadata": {
        "colab": {
          "base_uri": "https://localhost:8080/"
        },
        "id": "Z5jjhMjPP0XM",
        "outputId": "0bc67334-b9f9-4e58-929d-a40e6846741c"
      },
      "execution_count": null,
      "outputs": [
        {
          "output_type": "stream",
          "name": "stdout",
          "text": [
            "{'In': ['',\n",
            "        \"a = 'hi'\",\n",
            "        'b = [1,2,3,4]',\n",
            "        'a = b',\n",
            "        'b[1] = 50',\n",
            "        'a',\n",
            "        'print(locals())',\n",
            "        'import pprint',\n",
            "        'pprint.pprint(locals())'],\n",
            " 'Out': {5: [1, 50, 3, 4]},\n",
            " '_': [1, 50, 3, 4],\n",
            " '_5': [1, 50, 3, 4],\n",
            " '__': '',\n",
            " '___': '',\n",
            " '__builtin__': <module 'builtins' (built-in)>,\n",
            " '__builtins__': <module 'builtins' (built-in)>,\n",
            " '__doc__': 'Automatically created module for IPython interactive environment',\n",
            " '__loader__': None,\n",
            " '__name__': '__main__',\n",
            " '__package__': None,\n",
            " '__spec__': None,\n",
            " '_dh': ['/content'],\n",
            " '_i': 'import pprint',\n",
            " '_i1': \"a = 'hi'\",\n",
            " '_i2': 'b = [1,2,3,4]',\n",
            " '_i3': 'a = b',\n",
            " '_i4': 'b[1] = 50',\n",
            " '_i5': 'a',\n",
            " '_i6': 'print(locals())',\n",
            " '_i7': 'import pprint',\n",
            " '_i8': 'pprint.pprint(locals())',\n",
            " '_ih': ['',\n",
            "         \"a = 'hi'\",\n",
            "         'b = [1,2,3,4]',\n",
            "         'a = b',\n",
            "         'b[1] = 50',\n",
            "         'a',\n",
            "         'print(locals())',\n",
            "         'import pprint',\n",
            "         'pprint.pprint(locals())'],\n",
            " '_ii': 'print(locals())',\n",
            " '_iii': 'a',\n",
            " '_oh': {5: [1, 50, 3, 4]},\n",
            " 'a': [1, 50, 3, 4],\n",
            " 'b': [1, 50, 3, 4],\n",
            " 'exit': <IPython.core.autocall.ZMQExitAutocall object at 0x7f8101fa5710>,\n",
            " 'get_ipython': <bound method InteractiveShell.get_ipython of <google.colab._shell.Shell object at 0x7f810560e050>>,\n",
            " 'pprint': <module 'pprint' from '/usr/lib/python3.7/pprint.py'>,\n",
            " 'quit': <IPython.core.autocall.ZMQExitAutocall object at 0x7f8101fa5710>}\n"
          ]
        }
      ]
    },
    {
      "cell_type": "markdown",
      "source": [
        "# 6장 문자열 조작\n",
        "\n",
        "## 01. 유효한 팬린드롬\n",
        "\n",
        "### 주어진 문자열이 팬린드롬인지 확인하라. 대소문자를 구분하지 않으며, 영문자와 숫자만을 대상으로 한다\n",
        "\n",
        "#### 팬린드롬은 앞뒤를 뒤집어도 똑같은 문자열을 말한다.\n",
        "\n",
        "#### \"A man, plan, a canal: Panama\" -> true"
      ],
      "metadata": {
        "id": "wK8ZAC8MUfQ6"
      }
    },
    {
      "cell_type": "code",
      "source": [
        "# 내 풀이 -> 리스트에 추가해서 인덱스를 활용해 풀었다.\n",
        "\n",
        "\n",
        "class Solution:\n",
        "  def isPalindrome(self, s: str) -> bool:\n",
        "    strs = []\n",
        "    for char in s:\n",
        "      #숫자와 문자만 전처리하는 함수\n",
        "      if char.isalnum():\n",
        "        strs.append(char.lower())\n",
        "      #전처리 끝\n",
        "      # odd case\n",
        "      if len(strs) % 2 == 1:\n",
        "        for i in range(0, (len(strs)-1)//2 ):\n",
        "          if strs[i] != strs[len(strs)- 1 - i]:\n",
        "            return False\n",
        "      # even case\n",
        "      else: \n",
        "        for i in range(0, (len(strs))//2 ):\n",
        "          if strs[i] != strs[len(strs)- 1 - i]:\n",
        "            return False\n",
        "      return True\n",
        "\n",
        "import time # time 라이브러리 import\n",
        "start = time.time() # 시작\n",
        "solution = Solution()\n",
        "test_case: str = \"A man, a plan, a canal: Panama\"\n",
        "result: bool = solution.isPalindrome(test_case)\n",
        "print(result)\n",
        "print(f\"{time.time()-start:.10f} sec\")\n"
      ],
      "metadata": {
        "id": "f9xg3ahtP5QA",
        "outputId": "a83c8a09-c3a6-465e-d82e-8ecdbbe62a7e",
        "colab": {
          "base_uri": "https://localhost:8080/"
        }
      },
      "execution_count": 31,
      "outputs": [
        {
          "output_type": "stream",
          "name": "stdout",
          "text": [
            "True\n",
            "0.0020425320 sec\n"
          ]
        }
      ]
    },
    {
      "cell_type": "code",
      "source": [],
      "metadata": {
        "id": "pTHVSTBRaKXE"
      },
      "execution_count": null,
      "outputs": []
    }
  ]
}