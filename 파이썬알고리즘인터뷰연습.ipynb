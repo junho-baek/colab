{
  "nbformat": 4,
  "nbformat_minor": 0,
  "metadata": {
    "colab": {
      "provenance": [],
      "toc_visible": true,
      "authorship_tag": "ABX9TyMySQ5kpsU5WuQZLsgvtk/M",
      "include_colab_link": true
    },
    "kernelspec": {
      "name": "python3",
      "display_name": "Python 3"
    },
    "language_info": {
      "name": "python"
    }
  },
  "cells": [
    {
      "cell_type": "markdown",
      "metadata": {
        "id": "view-in-github",
        "colab_type": "text"
      },
      "source": [
        "<a href=\"https://colab.research.google.com/github/junho-baek/colab/blob/main/%ED%8C%8C%EC%9D%B4%EC%8D%AC%EC%95%8C%EA%B3%A0%EB%A6%AC%EC%A6%98%EC%9D%B8%ED%84%B0%EB%B7%B0%EC%97%B0%EC%8A%B5.ipynb\" target=\"_parent\"><img src=\"https://colab.research.google.com/assets/colab-badge.svg\" alt=\"Open In Colab\"/></a>"
      ]
    },
    {
      "cell_type": "markdown",
      "source": [
        "# Python Algoritheme Interview"
      ],
      "metadata": {
        "id": "cHsHFwys0v57"
      }
    },
    {
      "cell_type": "code",
      "source": [
        "print(\"hello world!\")"
      ],
      "metadata": {
        "id": "0x5OVOEt0-Xg",
        "outputId": "2496ecc1-9219-49e3-e410-d830ea9c5284",
        "colab": {
          "base_uri": "https://localhost:8080/"
        }
      },
      "execution_count": null,
      "outputs": [
        {
          "output_type": "stream",
          "name": "stdout",
          "text": [
            "hello world!\n"
          ]
        }
      ]
    },
    {
      "cell_type": "code",
      "source": [
        "a = 'hi'"
      ],
      "metadata": {
        "id": "h5bx378IInjT"
      },
      "execution_count": null,
      "outputs": []
    },
    {
      "cell_type": "code",
      "source": [
        "b = [1,2,3,4]"
      ],
      "metadata": {
        "id": "AB_zpS35PhdN"
      },
      "execution_count": null,
      "outputs": []
    },
    {
      "cell_type": "code",
      "source": [
        "a = b\n"
      ],
      "metadata": {
        "id": "_X2wX9adPjq8"
      },
      "execution_count": null,
      "outputs": []
    },
    {
      "cell_type": "code",
      "source": [
        "b[1] = 50"
      ],
      "metadata": {
        "id": "UPj1RGtRPlic"
      },
      "execution_count": null,
      "outputs": []
    },
    {
      "cell_type": "code",
      "source": [
        "a"
      ],
      "metadata": {
        "colab": {
          "base_uri": "https://localhost:8080/"
        },
        "id": "hHPVz_GnPnkc",
        "outputId": "31e8a643-029d-46fe-bb1f-810bfb6e86cc"
      },
      "execution_count": null,
      "outputs": [
        {
          "output_type": "execute_result",
          "data": {
            "text/plain": [
              "[1, 50, 3, 4]"
            ]
          },
          "metadata": {},
          "execution_count": 5
        }
      ]
    },
    {
      "cell_type": "code",
      "source": [
        "print(locals())"
      ],
      "metadata": {
        "colab": {
          "base_uri": "https://localhost:8080/"
        },
        "id": "47iqnjp6PoX0",
        "outputId": "589fe51f-c2c9-4d70-e1df-129f3e413970"
      },
      "execution_count": null,
      "outputs": [
        {
          "output_type": "stream",
          "name": "stdout",
          "text": [
            "{'__name__': '__main__', '__doc__': 'Automatically created module for IPython interactive environment', '__package__': None, '__loader__': None, '__spec__': None, '__builtin__': <module 'builtins' (built-in)>, '__builtins__': <module 'builtins' (built-in)>, '_ih': ['', \"a = 'hi'\", 'b = [1,2,3,4]', 'a = b', 'b[1] = 50', 'a', 'print(locals())'], '_oh': {5: [1, 50, 3, 4]}, '_dh': ['/content'], 'In': ['', \"a = 'hi'\", 'b = [1,2,3,4]', 'a = b', 'b[1] = 50', 'a', 'print(locals())'], 'Out': {5: [1, 50, 3, 4]}, 'get_ipython': <bound method InteractiveShell.get_ipython of <google.colab._shell.Shell object at 0x7f810560e050>>, 'exit': <IPython.core.autocall.ZMQExitAutocall object at 0x7f8101fa5710>, 'quit': <IPython.core.autocall.ZMQExitAutocall object at 0x7f8101fa5710>, '_': [1, 50, 3, 4], '__': '', '___': '', '_i': 'a', '_ii': 'b[1] = 50', '_iii': 'a = b', '_i1': \"a = 'hi'\", 'a': [1, 50, 3, 4], '_i2': 'b = [1,2,3,4]', 'b': [1, 50, 3, 4], '_i3': 'a = b', '_i4': 'b[1] = 50', '_i5': 'a', '_5': [1, 50, 3, 4], '_i6': 'print(locals())'}\n"
          ]
        }
      ]
    },
    {
      "cell_type": "code",
      "source": [
        "import pprint"
      ],
      "metadata": {
        "id": "3Q2WYeVPPx0U"
      },
      "execution_count": null,
      "outputs": []
    },
    {
      "cell_type": "code",
      "source": [
        "pprint.pprint(locals())"
      ],
      "metadata": {
        "colab": {
          "base_uri": "https://localhost:8080/"
        },
        "id": "Z5jjhMjPP0XM",
        "outputId": "0bc67334-b9f9-4e58-929d-a40e6846741c"
      },
      "execution_count": null,
      "outputs": [
        {
          "output_type": "stream",
          "name": "stdout",
          "text": [
            "{'In': ['',\n",
            "        \"a = 'hi'\",\n",
            "        'b = [1,2,3,4]',\n",
            "        'a = b',\n",
            "        'b[1] = 50',\n",
            "        'a',\n",
            "        'print(locals())',\n",
            "        'import pprint',\n",
            "        'pprint.pprint(locals())'],\n",
            " 'Out': {5: [1, 50, 3, 4]},\n",
            " '_': [1, 50, 3, 4],\n",
            " '_5': [1, 50, 3, 4],\n",
            " '__': '',\n",
            " '___': '',\n",
            " '__builtin__': <module 'builtins' (built-in)>,\n",
            " '__builtins__': <module 'builtins' (built-in)>,\n",
            " '__doc__': 'Automatically created module for IPython interactive environment',\n",
            " '__loader__': None,\n",
            " '__name__': '__main__',\n",
            " '__package__': None,\n",
            " '__spec__': None,\n",
            " '_dh': ['/content'],\n",
            " '_i': 'import pprint',\n",
            " '_i1': \"a = 'hi'\",\n",
            " '_i2': 'b = [1,2,3,4]',\n",
            " '_i3': 'a = b',\n",
            " '_i4': 'b[1] = 50',\n",
            " '_i5': 'a',\n",
            " '_i6': 'print(locals())',\n",
            " '_i7': 'import pprint',\n",
            " '_i8': 'pprint.pprint(locals())',\n",
            " '_ih': ['',\n",
            "         \"a = 'hi'\",\n",
            "         'b = [1,2,3,4]',\n",
            "         'a = b',\n",
            "         'b[1] = 50',\n",
            "         'a',\n",
            "         'print(locals())',\n",
            "         'import pprint',\n",
            "         'pprint.pprint(locals())'],\n",
            " '_ii': 'print(locals())',\n",
            " '_iii': 'a',\n",
            " '_oh': {5: [1, 50, 3, 4]},\n",
            " 'a': [1, 50, 3, 4],\n",
            " 'b': [1, 50, 3, 4],\n",
            " 'exit': <IPython.core.autocall.ZMQExitAutocall object at 0x7f8101fa5710>,\n",
            " 'get_ipython': <bound method InteractiveShell.get_ipython of <google.colab._shell.Shell object at 0x7f810560e050>>,\n",
            " 'pprint': <module 'pprint' from '/usr/lib/python3.7/pprint.py'>,\n",
            " 'quit': <IPython.core.autocall.ZMQExitAutocall object at 0x7f8101fa5710>}\n"
          ]
        }
      ]
    },
    {
      "cell_type": "markdown",
      "source": [],
      "metadata": {
        "id": "oJM_6Dhlwu2X"
      }
    },
    {
      "cell_type": "markdown",
      "source": [
        "# 6장 문자열 조작\n",
        "\n"
      ],
      "metadata": {
        "id": "wK8ZAC8MUfQ6"
      }
    },
    {
      "cell_type": "markdown",
      "source": [
        "\n",
        "## 01. 유효한 팬린드롬\n",
        "\n",
        "### 주어진 문자열이 팬린드롬인지 확인하라. 대소문자를 구분하지 않으며, 영문자와 숫자만을 대상으로 한다\n",
        "\n",
        "#### 팬린드롬은 앞뒤를 뒤집어도 똑같은 문자열을 말한다.\n",
        "\n",
        "#### \"A man, plan, a canal: Panama\" -> true\n"
      ],
      "metadata": {
        "id": "e1wPoC5rwoQO"
      }
    },
    {
      "cell_type": "code",
      "source": [
        "import time # time 라이브러리 import"
      ],
      "metadata": {
        "id": "W0J0cJfqlXOn"
      },
      "execution_count": null,
      "outputs": []
    },
    {
      "cell_type": "code",
      "source": [
        "# 내 풀이 -> 리스트에 추가해서 인덱스를 활용해 풀었다.\n",
        "\n",
        "\n",
        "class Solution:\n",
        "  def isPalindrome(self, s: str) -> bool:\n",
        "    strs = []\n",
        "    for char in s:\n",
        "      #숫자와 문자만 전처리하는 함수\n",
        "      if char.isalnum():\n",
        "        strs.append(char.lower())\n",
        "      #전처리 끝\n",
        "      # odd case\n",
        "      if len(strs) % 2 == 1:\n",
        "        for i in range(0, (len(strs)-1)//2 ):\n",
        "          if strs[i] != strs[len(strs)- 1 - i]:\n",
        "            return False\n",
        "      # even case\n",
        "      else: \n",
        "        for i in range(0, (len(strs))//2 ):\n",
        "          if strs[i] != strs[len(strs)- 1 - i]:\n",
        "            return False\n",
        "      return True\n",
        "\n",
        "  \n",
        "start = time.time() # 시작\n",
        "\n",
        "solution = Solution()\n",
        "test_case: str = \"A man, a plan, a canal: Panama\"\n",
        "result: bool = solution.isPalindrome(test_case)\n",
        "print(result)\n",
        "\n",
        "print(f\"{time.time()-start:.10f} sec\")\n",
        "\n",
        "\n",
        "\n"
      ],
      "metadata": {
        "id": "f9xg3ahtP5QA",
        "colab": {
          "base_uri": "https://localhost:8080/"
        },
        "outputId": "0bde6c8a-596c-4a79-affe-7cfa70827240"
      },
      "execution_count": null,
      "outputs": [
        {
          "output_type": "stream",
          "name": "stdout",
          "text": [
            "True\n",
            "0.0016133785 sec\n"
          ]
        }
      ]
    },
    {
      "cell_type": "code",
      "source": [
        "# solution 1\n",
        "# 내 풀이와 비슷하지만, 리스트의 pop함수를 이용해서 라인을 줄였다.\n",
        "# 홀수면 1개 짝수면 0개가 남기 때문에 while 1개 초과할 때 조건이 성립한다.\n",
        "\n",
        "class Solution:\n",
        "  def isPalindrome(self, s: str) -> bool:\n",
        "    strs = []\n",
        "    for char in s:\n",
        "      if char.isalnum():\n",
        "        strs.append(char.lower())\n",
        "\n",
        "    #pop() 함수는 리스트의 마지막 요소를 값으로 부여받고, 해당 리스트에서 가장 마지막 값을 삭제하는 함수이다. pop()의\n",
        "    #parameter로 0을 넣으면 리스트의 인덱스 0의 값을 선택해서 제거하고 그 값을 부여받는다.\n",
        "    #pop() 은 O(0), pop(0)은 O(n)이다.\n",
        "    while len(strs)>1:\n",
        "      if strs.pop(0) != strs.pop():\n",
        "        \n",
        "        return False\n",
        "\n",
        "    return True\n",
        "\n",
        "start = time.time() # 시작\n",
        "\n",
        "solution = Solution()\n",
        "test_case: str = \"A man, a plan, a canal: Panama\"\n",
        "result: bool = solution.isPalindrome(test_case)\n",
        "print(result)\n",
        "\n",
        "print(f\"{time.time()-start:.10f} sec\")"
      ],
      "metadata": {
        "colab": {
          "base_uri": "https://localhost:8080/"
        },
        "id": "gqJLlQK5iqvV",
        "outputId": "5eaea6ee-fd5f-46b1-fdea-692b56010366"
      },
      "execution_count": null,
      "outputs": [
        {
          "output_type": "stream",
          "name": "stdout",
          "text": [
            "True\n",
            "0.0033507347 sec\n"
          ]
        }
      ]
    },
    {
      "cell_type": "code",
      "source": [
        "# solution 2\n",
        "# Deque라는 자료형 활용 -> 앞 뒤로 추출해야할 때 유용하다!\n",
        "import time # time 라이브러리 import\n",
        "import collections\n",
        "\n",
        "class Solution:\n",
        "  def isPalindrome(self, s: str) -> bool:\n",
        "    #자료형을 데크로 선언한다. \n",
        "    #데크란 배열의 양쪽에서 추출할 수 있는 자료형으로 나중에 다시 한번 다룰 예정이다.\n",
        "    strs: Deque = collections.deque()\n",
        "\n",
        "    for char in s:\n",
        "      if char.isalnum():\n",
        "        strs.append(char.lower())\n",
        "\n",
        "    #pop() 함수는 리스트의 마지막 요소를 값으로 부여받고, 해당 리스트에서 가장 마지막 값을 삭제하는 함수이다. pop()의\n",
        "    #parameter로 0을 넣으면 리스트의 인덱스 0의 값을 선택해서 제거하고 그 값을 부여받는다.\n",
        "    #pop() 은 O(0), pop(0)은 O(n)이다.\n",
        "    #하지만 deque의 popleft()는 O(0)이다.\n",
        "    while len(strs)>1:\n",
        "      if strs.popleft() != strs.pop():\n",
        "        \n",
        "        return False\n",
        "\n",
        "    return True\n",
        "\n",
        "\n",
        "\n",
        "start = time.time() # 시작\n",
        "\n",
        "solution = Solution()\n",
        "test_case: str = \"A man, a plan, a canal: Panama\"\n",
        "result: bool = solution.isPalindrome(test_case)\n",
        "print(result)\n",
        "\n",
        "print(f\"{time.time()-start:.10f} sec\")"
      ],
      "metadata": {
        "colab": {
          "base_uri": "https://localhost:8080/"
        },
        "id": "Kpap7bulli0z",
        "outputId": "e81c4039-ea31-4f66-a3c4-659f3de6d931"
      },
      "execution_count": null,
      "outputs": [
        {
          "output_type": "stream",
          "name": "stdout",
          "text": [
            "True\n",
            "0.0035362244 sec\n"
          ]
        }
      ]
    },
    {
      "cell_type": "code",
      "source": [
        "# solution 3\n",
        "# 정규표현식이용\n",
        "import time # time 라이브러리 import\n",
        "import collections\n",
        "import re\n",
        "\n",
        "class Solution:\n",
        "  def isPalindrome(self, s: str) -> bool:\n",
        "    s = s.lower()\n",
        "    #re.sub는 a-z가 아닌 것 0-9가 아닌 것을 ''로 바꾸는 것\n",
        "    s = re.sub('[^a-z0-9]','', s)\n",
        "    print(s[::-1])\n",
        "    # s[시작지점:끝지점 + 1:건너뛰는 숫자] 음수일 때는 거꾸로 즉 밑의 슬라이싱은 s를 뒤집은 것이다.\n",
        "    return s == s[::-1]\n",
        "\n",
        "\n",
        "\n",
        "start = time.time() # 시작\n",
        "\n",
        "solution = Solution()\n",
        "test_case: str = \"A man, a plan, a canal: Panama\"\n",
        "result: bool = solution.isPalindrome(test_case)\n",
        "print(result)\n",
        "\n",
        "print(f\"{time.time()-start:.10f} sec\")"
      ],
      "metadata": {
        "id": "EBwrBSmXmxiH",
        "outputId": "50d15c84-fecb-4438-84c6-9d1e61df631c",
        "colab": {
          "base_uri": "https://localhost:8080/"
        }
      },
      "execution_count": null,
      "outputs": [
        {
          "output_type": "stream",
          "name": "stdout",
          "text": [
            "amanaplanacanalpanama\n",
            "True\n",
            "0.0025820732 sec\n"
          ]
        }
      ]
    },
    {
      "cell_type": "markdown",
      "source": [
        "## 02. 문자열 뒤집기\n",
        "\n",
        "### 문자열을 뒤집는함수를 작성하라. 입력값은 문자 배열이며, 리턴 없이 리스트 내부를 직접 조작하라.\n"
      ],
      "metadata": {
        "id": "Uams4Bz1w08A"
      }
    },
    {
      "cell_type": "code",
      "source": [
        "import time # time 라이브러리 import\n",
        "import collections\n",
        "import re\n",
        "from typing import List\n",
        "\n",
        "class Solution:\n",
        "  def reverseString(self, s: List[str]) -> None:\n",
        "    s.reverse()\n",
        "\n",
        "test_case: List[str] = [\"a\",\"b\",\"c\"]\n",
        "sol = Solution()\n",
        "sol.reverseString(test_case)\n",
        "\n",
        "print(test_case)"
      ],
      "metadata": {
        "id": "pJcvvaWnxr1n",
        "outputId": "acea3906-ee16-492a-cbe0-80d2a1ece014",
        "colab": {
          "base_uri": "https://localhost:8080/"
        }
      },
      "execution_count": null,
      "outputs": [
        {
          "output_type": "stream",
          "name": "stdout",
          "text": [
            "['c', 'b', 'a']\n"
          ]
        }
      ]
    },
    {
      "cell_type": "code",
      "source": [
        "import time # time 라이브러리 import\n",
        "import collections\n",
        "import re\n",
        "from typing import List\n",
        "\n",
        "class Solution:\n",
        "  def reverseString(self, s: List[str]) -> None:\n",
        "    left = 0\n",
        "    right = len(s) - 1\n",
        "    while left < right:\n",
        "      s[left], s[right] = s[right], s[left]\n",
        "      left += 1\n",
        "      right -= 1\n",
        "\n",
        "test_case: List[str] = [\"a\",\"b\",\"c\"]\n",
        "sol = Solution()\n",
        "sol.reverseString(test_case)\n",
        "\n",
        "print(test_case)"
      ],
      "metadata": {
        "id": "ruTxwvfwzZAq",
        "outputId": "371d0600-ef80-435c-fc7b-18653dd15edd",
        "colab": {
          "base_uri": "https://localhost:8080/"
        }
      },
      "execution_count": null,
      "outputs": [
        {
          "output_type": "stream",
          "name": "stdout",
          "text": [
            "None\n"
          ]
        }
      ]
    },
    {
      "cell_type": "markdown",
      "source": [
        "## 03. 로그 파일 재정렬\n",
        "\n",
        "\n",
        "1.   로그의 가장 앞 부분은 식별자다\n",
        "2.   문자로 구성된 로그가 숫자 로그보다 앞에 온다\n",
        "3.   식별자는 순서에 영향을 끼치지 않지만, 문자가 동일할 경우 식별자 순으로 한다.\n",
        "4.   숫자 로그는 입력 순서대로 한다.\n",
        "\n",
        "\n"
      ],
      "metadata": {
        "id": "ApEBqGHu1JVD"
      }
    },
    {
      "cell_type": "code",
      "source": [
        "import time # time 라이브러리 import\n",
        "import collections\n",
        "import re\n",
        "from typing import List\n",
        "\n",
        "class Solution:\n",
        "  def reorderLogFiles(self, logs: List[str]) -> List[str]:\n",
        "    letters, digits = [], []\n",
        "    for log in logs:\n",
        "      if log.split()[1].isdigit():\n",
        "        digits.append(log)\n",
        "      else:\n",
        "        letters.append(log)\n",
        "        # 람다함수 기준 왼쪽 거 먼저 솔트함. 당연히 오름차순이겠지?? 다하고 난 뒤에 오른쪽ㄱ거 기준으로 솔트함\n",
        "    letters.sort(key = lambda x: (x.split()[1:], x.split()[0]))\n",
        "\n",
        "    return letters + digits\n",
        "\n",
        "test_case: List[str] = [\"a1 23 1\",\"b1 adf\",\"b2 bsdf\"]\n",
        "sol = Solution()\n",
        "result = sol.reorderLogFiles(test_case)\n",
        "\n",
        "print(result)"
      ],
      "metadata": {
        "id": "NVmiNieB1-QR",
        "outputId": "fec6b9e5-be47-4953-cfe1-16209b707df7",
        "colab": {
          "base_uri": "https://localhost:8080/"
        }
      },
      "execution_count": null,
      "outputs": [
        {
          "output_type": "stream",
          "name": "stdout",
          "text": [
            "['b1 adf', 'b2 bsdf', 'a1 23 1']\n"
          ]
        }
      ]
    },
    {
      "cell_type": "markdown",
      "source": [
        "## 03. 가장 흔한 단어\n",
        "\n",
        "\n",
        "금지된 단어를 제외한 가장 흔하게 등장하는 단어를 출력하라.\n",
        "대소문자 구분을 하지 않으며, 구두점 또한 무시한다."
      ],
      "metadata": {
        "id": "YIbcFTWy6EL-"
      }
    },
    {
      "cell_type": "code",
      "source": [
        "import time # time 라이브러리 import\n",
        "import collections\n",
        "import re\n",
        "from typing import List\n",
        "\n",
        "class Solution:\n",
        "  def mostCommonWord(self, paragraph: str, banned: List[str]) -> str:\n",
        "    words = [word for word in re.sub(r'[^\\w]', ' ',paragraph).lower().split()\n",
        "            if word not in banned\n",
        "        ]\n",
        "\n",
        "    counts = collections.defaultdict(int)\n",
        "    for word in words:\n",
        "      counts[word] += 1\n",
        "    most_common_word = max(counts, key=counts.get)\n",
        "\n",
        "\n",
        "    counts = collections.Counter(words)\n",
        "    most_common_word2 = max(counts.most_common(1)[0][0])\n",
        "    print(words,counts,most_common_word,most_common_word2, sep='\\n')\n",
        "    return most_common_word2\n",
        "\n",
        "sol = Solution()\n",
        "sol.mostCommonWord('hi mom im hungry im hi hi', ['im'])"
      ],
      "metadata": {
        "colab": {
          "base_uri": "https://localhost:8080/"
        },
        "id": "Pkf0EJ3O6P5n",
        "outputId": "2bec01f5-e4eb-42dd-8fb6-2eba4c6ccc73"
      },
      "execution_count": 23,
      "outputs": [
        {
          "output_type": "stream",
          "name": "stdout",
          "text": [
            "['hi', 'mom', 'hungry', 'hi', 'hi']\n",
            "Counter({'hi': 3, 'mom': 1, 'hungry': 1})\n",
            "hi\n",
            "i\n"
          ]
        }
      ]
    },
    {
      "cell_type": "code",
      "source": [],
      "metadata": {
        "id": "tyC3ou2n60Tf"
      },
      "execution_count": null,
      "outputs": []
    }
  ]
}